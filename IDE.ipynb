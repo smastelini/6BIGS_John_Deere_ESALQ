{
 "cells": [
  {
   "cell_type": "code",
   "execution_count": 1,
   "metadata": {},
   "outputs": [],
   "source": [
    "import numpy as np\n",
    "import pandas as pd"
   ]
  },
  {
   "cell_type": "code",
   "execution_count": 2,
   "metadata": {
    "scrolled": true
   },
   "outputs": [
    {
     "data": {
      "text/html": [
       "<div>\n",
       "<style scoped>\n",
       "    .dataframe tbody tr th:only-of-type {\n",
       "        vertical-align: middle;\n",
       "    }\n",
       "\n",
       "    .dataframe tbody tr th {\n",
       "        vertical-align: top;\n",
       "    }\n",
       "\n",
       "    .dataframe thead th {\n",
       "        text-align: right;\n",
       "    }\n",
       "</style>\n",
       "<table border=\"1\" class=\"dataframe\">\n",
       "  <thead>\n",
       "    <tr style=\"text-align: right;\">\n",
       "      <th></th>\n",
       "      <th>Nr</th>\n",
       "      <th>ID</th>\n",
       "      <th>POINT_X</th>\n",
       "      <th>POINT_Y</th>\n",
       "      <th>Sand</th>\n",
       "      <th>Silt</th>\n",
       "      <th>Clay</th>\n",
       "      <th>Ca</th>\n",
       "      <th>set</th>\n",
       "    </tr>\n",
       "  </thead>\n",
       "  <tbody>\n",
       "    <tr>\n",
       "      <th>0</th>\n",
       "      <td>440</td>\n",
       "      <td>A1</td>\n",
       "      <td>756995.50</td>\n",
       "      <td>7520304.0</td>\n",
       "      <td>53</td>\n",
       "      <td>10</td>\n",
       "      <td>37</td>\n",
       "      <td>35</td>\n",
       "      <td>validation</td>\n",
       "    </tr>\n",
       "    <tr>\n",
       "      <th>1</th>\n",
       "      <td>893</td>\n",
       "      <td>B1</td>\n",
       "      <td>756995.50</td>\n",
       "      <td>7520304.0</td>\n",
       "      <td>64</td>\n",
       "      <td>4</td>\n",
       "      <td>32</td>\n",
       "      <td>19</td>\n",
       "      <td>validation</td>\n",
       "    </tr>\n",
       "    <tr>\n",
       "      <th>2</th>\n",
       "      <td>182</td>\n",
       "      <td>A3</td>\n",
       "      <td>756106.75</td>\n",
       "      <td>7519687.5</td>\n",
       "      <td>14</td>\n",
       "      <td>17</td>\n",
       "      <td>69</td>\n",
       "      <td>42</td>\n",
       "      <td>validation</td>\n",
       "    </tr>\n",
       "    <tr>\n",
       "      <th>3</th>\n",
       "      <td>642</td>\n",
       "      <td>B3</td>\n",
       "      <td>756106.75</td>\n",
       "      <td>7519687.5</td>\n",
       "      <td>36</td>\n",
       "      <td>28</td>\n",
       "      <td>36</td>\n",
       "      <td>33</td>\n",
       "      <td>validation</td>\n",
       "    </tr>\n",
       "    <tr>\n",
       "      <th>4</th>\n",
       "      <td>331</td>\n",
       "      <td>A5</td>\n",
       "      <td>755907.50</td>\n",
       "      <td>7519786.0</td>\n",
       "      <td>34</td>\n",
       "      <td>17</td>\n",
       "      <td>49</td>\n",
       "      <td>67</td>\n",
       "      <td>cal_candidate</td>\n",
       "    </tr>\n",
       "  </tbody>\n",
       "</table>\n",
       "</div>"
      ],
      "text/plain": [
       "    Nr  ID    POINT_X    POINT_Y  Sand  Silt  Clay  Ca            set\n",
       "0  440  A1  756995.50  7520304.0    53    10    37  35     validation\n",
       "1  893  B1  756995.50  7520304.0    64     4    32  19     validation\n",
       "2  182  A3  756106.75  7519687.5    14    17    69  42     validation\n",
       "3  642  B3  756106.75  7519687.5    36    28    36  33     validation\n",
       "4  331  A5  755907.50  7519786.0    34    17    49  67  cal_candidate"
      ]
     },
     "execution_count": 2,
     "metadata": {},
     "output_type": "execute_result"
    }
   ],
   "source": [
    "data = pd.read_csv(\"workshop_cemeai_spatinterp_data.csv\")\n",
    "data.head()"
   ]
  },
  {
   "cell_type": "code",
   "execution_count": 3,
   "metadata": {
    "scrolled": false
   },
   "outputs": [
    {
     "data": {
      "text/plain": [
       "(458, 452)"
      ]
     },
     "execution_count": 3,
     "metadata": {},
     "output_type": "execute_result"
    }
   ],
   "source": [
    "data_a = data[data['ID'].str.startswith('A')]\n",
    "data_b = data[data['ID'].str.startswith('B')]\n",
    "\n",
    "len(data_a), len(data_b)"
   ]
  },
  {
   "cell_type": "code",
   "execution_count": 4,
   "metadata": {},
   "outputs": [],
   "source": [
    "data_a.to_csv('data_group_a.csv', index=False)\n",
    "data_b.to_csv('data_group_b.csv', index=False)"
   ]
  },
  {
   "cell_type": "code",
   "execution_count": 5,
   "metadata": {},
   "outputs": [],
   "source": [
    "def haversine_dist(lat1, lon1, lat2, lon2):\n",
    "    R = 6373.0  # aproximacao do raio da terra\n",
    "\n",
    "    lat1 = np.radians(lat1)\n",
    "    lon1 = np.radians(lon1)\n",
    "    lat2 = np.radians(lat2)\n",
    "    lon2 = np.radians(lon2)\n",
    "\n",
    "    # deltas\n",
    "    dlon = lon2 - lon1\n",
    "    dlat = lat2 - lat1\n",
    "\n",
    "    a = np.sin(dlat / 2) ** 2 + np.cos(lat1) * np.cos(lat2) * np.sin(dlon / 2) ** 2\n",
    "\n",
    "    # Haversine formula\n",
    "    c = 2 * np.arctan2(np.sqrt(a), np.sqrt(1 - a))\n",
    "\n",
    "    return R * c\n",
    "\n",
    "def haversine_dmatrix(dataset):\n",
    "    dist = np.zeros((len(dataset), len(dataset)))\n",
    "    tmp = dataset.loc[:, ['POINT_X', 'POINT_Y']].values\n",
    "    \n",
    "    for i in range(len(dataset)):\n",
    "        dist[i, :] = haversine_dist(\n",
    "            tmp[i, 0], tmp[i, 1],\n",
    "            tmp[:, 0], tmp[:, 1]\n",
    "        )\n",
    "    \n",
    "    return dist"
   ]
  },
  {
   "cell_type": "code",
   "execution_count": 6,
   "metadata": {},
   "outputs": [],
   "source": [
    "cdata_a, vdata_a = data_a[data_a['set'] == 'cal_candidate'], data_a[data_a['set'] == 'validation']\n",
    "cdata_b, vdata_b = data_b[data_b['set'] == 'cal_candidate'], data_b[data_b['set'] == 'validation']\n",
    "                                                                    \n",
    "cdata_a.to_csv('calibration_data_group_a.csv', index=False)\n",
    "cdata_b.to_csv('calibration_data_group_b.csv', index=False)\n",
    "\n",
    "vdata_a.to_csv('validation_data_group_a.csv', index=False)\n",
    "vdata_b.to_csv('validation_data_group_b.csv', index=False)"
   ]
  },
  {
   "cell_type": "code",
   "execution_count": 7,
   "metadata": {},
   "outputs": [],
   "source": [
    "# k-NN que prediz o valor mediano entre os vizinhos: baseline\n",
    "def knn_median_pred(trd, vld, k=3):\n",
    "    preds = np.zeros(len(vld))\n",
    "\n",
    "    for i, vsample in enumerate(vld):\n",
    "        dists = haversine_dist(trd[:, 0], trd[:, 1], vsample[0], vsample[1])\n",
    "\n",
    "        pos = np.argsort(dists)\n",
    "        preds[i] = np.median(trd[pos, 2][:k])\n",
    "    \n",
    "    return vld[:, -1], preds"
   ]
  },
  {
   "cell_type": "code",
   "execution_count": 8,
   "metadata": {},
   "outputs": [
    {
     "name": "stdout",
     "output_type": "stream",
     "text": [
      "MAE: 8.809734513274336\n",
      "RMSE: 13.985691170697423\n"
     ]
    }
   ],
   "source": [
    "# Grupo A\n",
    "\n",
    "trd = cdata_a.loc[:, ['POINT_X', 'POINT_Y', 'Ca']].values\n",
    "vld = vdata_a.loc[:, ['POINT_X', 'POINT_Y', 'Ca']].values\n",
    "\n",
    "y, y_pred = knn_median_pred(trd, vld, 10)\n",
    "\n",
    "print('MAE:', np.mean(np.abs(y - y_pred)))\n",
    "print('RMSE:', np.sqrt(np.mean((y - y_pred) ** 2)))"
   ]
  },
  {
   "cell_type": "code",
   "execution_count": 9,
   "metadata": {},
   "outputs": [
    {
     "name": "stdout",
     "output_type": "stream",
     "text": [
      "MAE: 7.973684210526316\n",
      "RMSE: 12.024645743769664\n"
     ]
    }
   ],
   "source": [
    "# Grupo B\n",
    "\n",
    "trd = cdata_b.loc[:, ['POINT_X', 'POINT_Y', 'Ca']].values\n",
    "vld = vdata_b.loc[:, ['POINT_X', 'POINT_Y', 'Ca']].values\n",
    "\n",
    "y, y_pred = knn_median_pred(trd, vld, 10)\n",
    "\n",
    "print('MAE:', np.mean(np.abs(y - y_pred)))\n",
    "print('RMSE:', np.sqrt(np.mean((y - y_pred) ** 2)))"
   ]
  }
 ],
 "metadata": {
  "kernelspec": {
   "display_name": "Python 3",
   "language": "python",
   "name": "python3"
  },
  "language_info": {
   "codemirror_mode": {
    "name": "ipython",
    "version": 3
   },
   "file_extension": ".py",
   "mimetype": "text/x-python",
   "name": "python",
   "nbconvert_exporter": "python",
   "pygments_lexer": "ipython3",
   "version": "3.8.5"
  }
 },
 "nbformat": 4,
 "nbformat_minor": 4
}
